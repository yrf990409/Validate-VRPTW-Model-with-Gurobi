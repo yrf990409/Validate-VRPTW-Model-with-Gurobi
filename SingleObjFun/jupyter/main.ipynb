{
 "cells": [
  {
   "cell_type": "markdown",
   "metadata": {},
   "source": [
    "# Gurobi(Python调用)求解VRPTW问题\n",
    "作者：yrf990409\n",
    "\n",
    "软件：VS Code, Python 3.9, Gurobi 9.5\n",
    "\n",
    "致谢：Gurobi(中国), 运小筹微信公众号\n",
    "\n",
    "参考：https://doi.org/10.1137/1.9780898718515.ch7; https://mp.weixin.qq.com/s/tF-ayzjpZfuZvelvItuecw\n"
   ]
  },
  {
   "cell_type": "code",
   "execution_count": null,
   "metadata": {},
   "outputs": [],
   "source": [
    "# 导入所需包\n",
    "import gurobipy as gp\n",
    "import numpy as np\n",
    "import math\n",
    "import copy\n",
    "# import matplotlib.pyplot as plt"
   ]
  },
  {
   "cell_type": "markdown",
   "metadata": {},
   "source": [
    "## 数据处理\n"
   ]
  },
  {
   "cell_type": "code",
   "execution_count": null,
   "metadata": {},
   "outputs": [],
   "source": [
    "# 导入数据\n",
    "np.set_printoptions(suppress=True)    # 取消numpy打印的科学计数法\n",
    "data = np.loadtxt('./Data/c101.csv',  # 相对路径下的csv文件，可替换成你的数据\n",
    "                  dtype=None,         # 数据类型默认\n",
    "                  encoding='UTF-8',   # 注意此文件为UTF-8格式且取消BOM\n",
    "                  delimiter=',')      # 分隔符\n",
    "\n",
    "'''\n",
    "关于Slomon数据的每列数据的定义,可查看下列代码\n",
    "也可以访问 https://www.sintef.no/projectweb/top/vrptw/100-customers/\n",
    "下载原始txt数据\n",
    "原始数据仅转换成CSV格式,并未增删,因此需要进一步处理\n",
    "'''\n",
    "# 数据提取，处理\n",
    "# 数据切片\n",
    "x_coord  = np.append(data[:,1],data[0,1])   # 横坐标\n",
    "y_coord  = np.append(data[:,2],data[0,2])   # 纵坐标\n",
    "demands  = np.append(data[:,3],data[0,3])   # 需求\n",
    "ready_t  = np.append(data[:,4],data[0,4])   # 左时间窗\n",
    "due_t    = np.append(data[:,5],data[0,5])   # 右时间窗\n",
    "serve_t  = np.append(data[:,6],data[0,6])   # 服务时长\n",
    "\n",
    "# 车辆数据\n",
    "# 车辆数据的大小请查阅Solomon原始txt文件中的定义\n",
    "v_cap = 200 # solomon数据集中 1系列容量为200 2系列容量为1000\n",
    "v_num = 25\n",
    "\n",
    "# 定义集合\n",
    "V = [(i) for i in range(x_coord.size)] \n",
    "N = V[1:-1]\n",
    "A = [(i,j) for i in V for j in V]\n",
    "K = [(k) for k in range(v_num)]\n",
    "# print(V) # 0,1,...,101\n",
    "# print(N) # 1,2,...,100\n",
    "# print(A) # (0,0)至(101,101)\n",
    "# print(K) # 0,1,...,24\n",
    "\n",
    "# 定义时间上下界\n",
    "E = float(ready_t[0])\n",
    "L = float(due_t[0])\n",
    "\n",
    "# 定义大M\n",
    "M = 10000\n",
    "\n",
    "# 定义容量\n",
    "C = v_cap\n",
    "\n",
    "# 距离矩阵计算(字典)\n",
    "# 欧式距离\n",
    "c = {(i,j):\n",
    "    math.sqrt((x_coord[i]-x_coord[j])**2 + \n",
    "              (y_coord[i]-y_coord[j])**2)\n",
    "    for i in V\n",
    "    for j in V}\n",
    "# print(len(c)) # 102*102\n",
    "\n",
    "# 行驶时间矩阵\n",
    "t = copy.deepcopy(c)\n",
    "\n",
    "# 左时间窗\n",
    "a = {(i):ready_t[i] for i in V}\n",
    "\n",
    "# 右时间窗\n",
    "b = {(i):due_t[i] for i in V}\n",
    "\n",
    "# 服务时长\n",
    "s = {(i):serve_t[i] for i in V}\n",
    "\n",
    "# 客户需求\n",
    "d = {(i):demands[i] for i in N}\n",
    "\n"
   ]
  },
  {
   "cell_type": "markdown",
   "metadata": {},
   "source": [
    "## 定义函数"
   ]
  },
  {
   "cell_type": "code",
   "execution_count": null,
   "metadata": {},
   "outputs": [],
   "source": [
    "def DeltaPlus(i,V):\n",
    "    delta_plus = copy.deepcopy(V) # 深拷贝，否则对V直接操作\n",
    "    delta_plus.remove(0) # i之后访问的点不能是出发点\n",
    "    if i != 0:\n",
    "        delta_plus.remove(i) # i之后访问的点不能是自身\n",
    "    return delta_plus\n",
    "\n",
    "def DeltaMinus(i,V):\n",
    "    delta_minus = copy.deepcopy(V) # 深拷贝，否则对V直接操作\n",
    "    if i != delta_minus[-1]:\n",
    "        delta_minus.remove(i) # 到达i的点不能是自身\n",
    "        del delta_minus[-1]   # 到达i的点不能是返回点\n",
    "    else:\n",
    "        del delta_minus[-1]   # 到达i的点不能是返回点或自身\n",
    "    return delta_minus\n"
   ]
  },
  {
   "cell_type": "markdown",
   "metadata": {},
   "source": [
    "## 建模\n",
    "### 实例化模型"
   ]
  },
  {
   "cell_type": "code",
   "execution_count": null,
   "metadata": {},
   "outputs": [],
   "source": [
    "m = gp.Model()"
   ]
  },
  {
   "cell_type": "markdown",
   "metadata": {},
   "source": [
    "### 创建决策变量\n",
    "模型的决策变量如下：\n",
    "\n",
    "- $x_{ijk},\\,\\, \\forall (i,j)\\in A,k\\in K$为0-1决策变量，即车辆$k\\in K$经过弧$(i,j)\\in A$，取值则为1，否则为0。\n",
    "- $w_{ik},\\,\\, \\forall i\\in V,k\\in K$表示车辆$k\\in K$开始服务顾客$i\\in V$的时间点。"
   ]
  },
  {
   "cell_type": "code",
   "execution_count": null,
   "metadata": {},
   "outputs": [],
   "source": [
    "# 决策变量x_ijk\n",
    "x = m.addVars(\n",
    "    ((i, j, k) for (i, j) in A for k in K), vtype=gp.GRB.BINARY, name=\"x\"\n",
    ")  # 0-1 名称为‘x’\n",
    "\n",
    "# 决策变量w_ik\n",
    "w = m.addVars(((i, k) for i in V for k in K), vtype=gp.GRB.CONTINUOUS, name=\"w\")"
   ]
  },
  {
   "cell_type": "markdown",
   "metadata": {},
   "source": [
    "### 目标函数\n",
    "$$\n",
    "{\\rm{min}}\\,\\,\\ \\sum_{k\\in K}\\sum_{(i,j)\\in A}c_{ij}x_{ijk}\n",
    "\\tag{1}\n",
    "$$"
   ]
  },
  {
   "cell_type": "code",
   "execution_count": null,
   "metadata": {},
   "outputs": [],
   "source": [
    "m.setObjective(\n",
    "    gp.quicksum(c[i, j] * x[i, j, k] for (i, j) in A for k in K), sense=gp.GRB.MINIMIZE\n",
    ")"
   ]
  },
  {
   "cell_type": "markdown",
   "metadata": {},
   "source": [
    "### 约束\n",
    "#### 一个顾客只能被一辆车服务一次\n",
    "\n",
    "$$\n",
    "\\sum_{k\\in K}\\,\\sum_{j\\in \\Delta^{+}(i)}x_{ijk} = 1,\\,\\,\\forall i \\in N\n",
    "\\tag{2}\n",
    "$$"
   ]
  },
  {
   "cell_type": "code",
   "execution_count": null,
   "metadata": {},
   "outputs": [],
   "source": [
    "m.addConstrs(\n",
    "    (gp.quicksum(x[i, j, k] for k in K for j in DeltaPlus(i, V)) == 1 for i in N),\n",
    "    name=\"VServesC\",\n",
    ")"
   ]
  },
  {
   "cell_type": "markdown",
   "metadata": {},
   "source": [
    "#### 所有车辆必须出发\n",
    "$$\n",
    "\\sum_{j\\in \\Delta^+(0)}x_{0jk}= 1,\\,\\, \\forall k \\in K\n",
    "\\tag{3}\n",
    "$$"
   ]
  },
  {
   "cell_type": "code",
   "execution_count": null,
   "metadata": {},
   "outputs": [],
   "source": [
    "m.addConstrs(\n",
    "    (gp.quicksum(x[0, j, k] for j in DeltaPlus(0, V)) == 1 for k in K), name=\"OutBound\"\n",
    ")"
   ]
  },
  {
   "cell_type": "markdown",
   "metadata": {},
   "source": [
    "#### 流守恒约束\n",
    "\n",
    "$$\n",
    "\\sum_{i\\in \\Delta^-(j)}x_{ijk} = \\sum_{i\\in \\Delta^+(j)}x_{jik},\\,\\, \\forall k\\in K ,\\,j\\in N\n",
    "\\tag{4}\n",
    "$$"
   ]
  },
  {
   "cell_type": "code",
   "execution_count": null,
   "metadata": {},
   "outputs": [],
   "source": [
    "m.addConstrs(\n",
    "    (\n",
    "        gp.quicksum(x[i, j, k] for i in DeltaMinus(j, V))\n",
    "        == gp.quicksum(x[j, i, k] for i in DeltaPlus(j, V))\n",
    "        for k in K\n",
    "        for j in N\n",
    "    ),\n",
    "    name=\"Flow\",\n",
    ")"
   ]
  },
  {
   "cell_type": "markdown",
   "metadata": {},
   "source": [
    "#### 所有车辆必须回到配送中心\n",
    "\n",
    "$$\n",
    "\\sum_{i\\in \\Delta^-(n+1)}x_{i,n+1,k}=1,\\,\\, \\forall k\\in K\n",
    "\\tag{5}\n",
    "$$"
   ]
  },
  {
   "cell_type": "code",
   "execution_count": null,
   "metadata": {},
   "outputs": [],
   "source": [
    "m.addConstrs(\n",
    "    (gp.quicksum(x[i, V[-1], k] for i in DeltaMinus(V[-1], V)) == 1 for k in K),\n",
    "    name=\"Inbound\"\n",
    ")"
   ]
  },
  {
   "cell_type": "markdown",
   "metadata": {},
   "source": [
    "#### 时间关系推导\n",
    "\n",
    "$$\n",
    "x_{ijk}(w_{ik}+s_i+t_{ij}-w_{jk}) \\le 0,\\,\\,\\forall k\\in K,\\,(i,j)\\in A\n",
    "\\tag{不使用}\n",
    "$$\n",
    "\n",
    "$$\n",
    "w_{ik}+s_i+t_{ij}-w_{jk} \\le (1-x_{ijk})M,\\,\\,\\forall k\\in K,\\,(i,j)\\in A\n",
    "\\tag{6a}\n",
    "$$"
   ]
  },
  {
   "cell_type": "code",
   "execution_count": null,
   "metadata": {},
   "outputs": [],
   "source": [
    "m.addConstrs(\n",
    "    (\n",
    "        (w[i, k] + s[i] + t[i, j] - w[j, k] <= (1 - x[i, j, k]) * M)\n",
    "        for (i, j) in A\n",
    "        for k in K\n",
    "    ),\n",
    "    name=\"Time\",\n",
    ")"
   ]
  },
  {
   "cell_type": "markdown",
   "metadata": {},
   "source": [
    "#### 时间窗约束\n",
    "\n",
    "$$\n",
    "a_i\\sum_{j\\in \\Delta^+(i)}x_{ijk} \\le w_{ik} \\le b_i\\sum_{j\\in \\Delta^+(i)}x_{ijk} ,\\,\\, \\forall k \\in K,\\,i\\in N\n",
    "\\tag{7}\n",
    "$$\n",
    "\n",
    "$$\n",
    "E\\le w_{ik}\\le L,\\,\\, \\forall k \\in K ,\\, i\\in \\{0,n+1\\}\n",
    "\\tag{8}\n",
    "$$"
   ]
  },
  {
   "cell_type": "code",
   "execution_count": null,
   "metadata": {},
   "outputs": [],
   "source": [
    "m.addConstrs(\n",
    "    (\n",
    "        (a[i] * (gp.quicksum(x[i, j, k] for j in DeltaPlus(i, V))) <= w[i, k])\n",
    "        for k in K\n",
    "        for i in N\n",
    "    ),\n",
    "    name=\"Window1\",\n",
    ")\n",
    "m.addConstrs(\n",
    "    (\n",
    "        (w[i, k] <= b[i] * (gp.quicksum(x[i, j, k] for j in DeltaPlus(i, V))))\n",
    "        for k in K\n",
    "        for i in N\n",
    "    ),\n",
    "    name=\"Window2\",\n",
    ")\n",
    "m.addConstrs((E <= w[i, k] for i in [0, V[-1]] for k in K), name=\"TimeBound1\")\n",
    "m.addConstrs((w[i, k] <= L for i in [0, V[-1]] for k in K), name=\"TimeBound2\")"
   ]
  },
  {
   "cell_type": "markdown",
   "metadata": {},
   "source": [
    "#### 容量约束\n",
    "\n",
    "$$\n",
    "\\sum_{i\\in N}d_i\\sum_{j\\in \\Delta^+(i)}x_{ijk}\\le C,\\,\\, \\forall k \\in K\n",
    "\\tag{9}\n",
    "$$"
   ]
  },
  {
   "cell_type": "code",
   "execution_count": null,
   "metadata": {},
   "outputs": [],
   "source": [
    "m.addConstrs(\n",
    "    (\n",
    "        gp.quicksum(d[i] * gp.quicksum(x[i, j, k] for j in DeltaPlus(i, V)) for i in N) <= C\n",
    "        for k in K\n",
    "    ),\n",
    "    name=\"Cap\"\n",
    ")"
   ]
  },
  {
   "cell_type": "markdown",
   "metadata": {},
   "source": [
    "## 求解\n"
   ]
  },
  {
   "cell_type": "code",
   "execution_count": null,
   "metadata": {},
   "outputs": [],
   "source": [
    "m.Params.MIPGap = 0.01\n",
    "m.Params.timeLimit = 7200\n",
    "m.Params.LogFile =  \"SolvingLog.log\"\n",
    "\n",
    "m.optimize()\n",
    "m.write('Model.lp')\n",
    "m.write('Solution.sol')\n",
    "\n",
    "print('求解完成')\n",
    "\n"
   ]
  },
  {
   "cell_type": "markdown",
   "metadata": {},
   "source": [
    "## 结果分析"
   ]
  },
  {
   "cell_type": "code",
   "execution_count": null,
   "metadata": {},
   "outputs": [],
   "source": [
    "solution  = {}\n",
    "delimiter = [] # 用于分割车辆\n",
    "\n",
    "count = 0 # 计数器\n",
    "for k in K:\n",
    "    for i in V:\n",
    "        for j in V:\n",
    "            if math.isclose(x[i,j,k].X,1): # 得到的解不一定是整数不能用“==”\n",
    "                solution[i,j,k] = 1\n",
    "                count = count+1\n",
    "    delimiter.append(count)\n",
    "\n",
    "route = np.array(list(solution.keys())) # 储存等于k经过的弧(i,j)"
   ]
  },
  {
   "cell_type": "code",
   "execution_count": null,
   "metadata": {},
   "outputs": [],
   "source": [
    "# 路径输出\n",
    "plt.figure(dpi=1000)\n",
    "for i in delimiter:\n",
    "    if i == delimiter[0]: # route第一辆车\n",
    "        route_for_k = route[0:i,:] \n",
    "\n",
    "        # 如果车没使用，直接从出发到返回\n",
    "        if route_for_k[0,0] == 0 and route_for_k[0,1] == V[-1]:\n",
    "            print(f'第{route_for_k[0,-1]}辆车的路径为:{0} -> {V[-1]}')\n",
    "        else: # 如果使用了\n",
    "            # 先画个从至表\n",
    "            table = np.zeros((V[-1]+1,V[-1]+1))\n",
    "            for k in range(route_for_k.shape[0]):\n",
    "                table[route_for_k[k,0],route_for_k[k,1]] = 1\n",
    "            # 从至表里面读取信息\n",
    "            start = 0\n",
    "            passing = 0\n",
    "            end = V[-1]\n",
    "            print(f'第{route_for_k[0,-1]}辆车的路径为:{0}',end='')\n",
    "            while passing != end:\n",
    "                temp = table[start,:]\n",
    "                passing = int(np.argwhere(temp==1))\n",
    "                plt.plot((x_coord[start],x_coord[passing]),\n",
    "                         (y_coord[start],y_coord[passing]),c='blue',linewidth=0.8)\n",
    "                plt.text(x_coord[passing],\n",
    "                         y_coord[passing], passing ,ha='center', va='bottom', fontsize=5)\n",
    "                start = passing\n",
    "                print(f' -> {passing}',end='')\n",
    "            else:\n",
    "                print()\n",
    "    else:\n",
    "        route_for_k = route[delimiter[delimiter.index(i)-1]:i]\n",
    "        # print(route_for_k)\n",
    "        # 如果车没使用，直接从出发到返回\n",
    "        if route_for_k[0,0] == 0 and route_for_k[0,1] == V[-1]:\n",
    "            print(f'第{route_for_k[0,-1]}辆车的路径为:{0} -> {V[-1]}')\n",
    "        else: # 如果使用了\n",
    "            # 先画个从至表\n",
    "            table = np.zeros((V[-1]+1,V[-1]+1))\n",
    "            for k in range(route_for_k.shape[0]):\n",
    "                table[route_for_k[k,0],route_for_k[k,1]] = 1\n",
    "            # 从至表里面读取信息\n",
    "            start = 0\n",
    "            passing = 0\n",
    "            end = V[-1]\n",
    "            print(f'第{route_for_k[0,-1]}辆车的路径为:{0}',end='')\n",
    "\n",
    "            while passing != end:\n",
    "                temp = table[start,:]\n",
    "                passing = int(np.argwhere(temp==1))\n",
    "                plt.plot((x_coord[start],x_coord[passing]),\n",
    "                         (y_coord[start],y_coord[passing]),c='blue',linewidth=0.8)\n",
    "                plt.text(x_coord[passing],\n",
    "                         y_coord[passing], passing ,ha='center', va='bottom', fontsize=5) \n",
    "                start = passing\n",
    "                print(f' -> {passing}',end='')\n",
    "            else:\n",
    "                print()\n",
    "\n",
    "plt.savefig('route.png')\n",
    "plt.show()"
   ]
  }
 ],
 "metadata": {
  "interpreter": {
   "hash": "7f3eb4a57e351a8651fd791e764b6b2a1a32baf995d63ca9b4e5aa466d022bd9"
  },
  "kernelspec": {
   "display_name": "Python 3.9.7 64-bit",
   "language": "python",
   "name": "python3"
  },
  "language_info": {
   "codemirror_mode": {
    "name": "ipython",
    "version": 3
   },
   "file_extension": ".py",
   "mimetype": "text/x-python",
   "name": "python",
   "nbconvert_exporter": "python",
   "pygments_lexer": "ipython3",
   "version": "3.11.5"
  },
  "orig_nbformat": 4
 },
 "nbformat": 4,
 "nbformat_minor": 2
}
